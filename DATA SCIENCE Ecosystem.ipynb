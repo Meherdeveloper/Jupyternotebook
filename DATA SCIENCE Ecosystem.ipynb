{
 "cells": [
  {
   "cell_type": "code",
   "execution_count": null,
   "id": "b77c466a",
   "metadata": {},
   "outputs": [],
   "source": [
    "# Data Science Tools and Ecosystem"
   ]
  },
  {
   "cell_type": "markdown",
   "id": "180cd338",
   "metadata": {},
   "source": [
    "In this notebook Data Science Tools and Notebook are summarized"
   ]
  },
  {
   "cell_type": "markdown",
   "id": "19c3690c",
   "metadata": {},
   "source": [
    "<b> OBJECTIVES:</b>\n",
    "* Popular Languages of Data Science\n",
    "* Open source development environments for Data Science\n",
    "* Libraries used ny Data Scientists\n",
    "* Arithematic Operations \n",
    "* Conversion between different units\n"
   ]
  },
  {
   "cell_type": "markdown",
   "id": "dbffa272",
   "metadata": {},
   "source": [
    "Some of the popular languages that Data Scientists use are:\n",
    "    \n",
    "    1. R\n",
    "    2. Scala\n",
    "    3. Julia\n",
    "    "
   ]
  },
  {
   "cell_type": "markdown",
   "id": "ae44347d",
   "metadata": {},
   "source": [
    "Some of the commomly used libraries used by Data Scientists are:\n",
    "\n",
    "    1. Tensor Flow\n",
    "    2. Numpy\n",
    "    3. Scipy"
   ]
  },
  {
   "cell_type": "markdown",
   "id": "556a78f6",
   "metadata": {},
   "source": [
    "a_row [Data Science Tools\n",
    "Anaconda\n",
    "GitHub]"
   ]
  },
  {
   "cell_type": "markdown",
   "id": "6813ce04",
   "metadata": {},
   "source": [
    "|Data Science Tools|\n",
    "-------------------\n",
    "|Jupyter Noteook  |\n",
    "|Apache spark     |\n",
    "|Tensor Flow      |"
   ]
  },
  {
   "cell_type": "code",
   "execution_count": 20,
   "id": "d6aeb3f2",
   "metadata": {},
   "outputs": [
    {
     "data": {
      "text/plain": [
       "(244, 21, 78668, 39.0)"
      ]
     },
     "execution_count": 20,
     "metadata": {},
     "output_type": "execute_result"
    }
   ],
   "source": [
    "### Below are a few examples of evaluating arithmetic expressions in Python\n",
    "\n",
    "222+22, 3*7,78902-234, 78/2\n"
   ]
  },
  {
   "cell_type": "code",
   "execution_count": 24,
   "id": "43c1f623",
   "metadata": {},
   "outputs": [
    {
     "data": {
      "text/plain": [
       "17"
      ]
     },
     "execution_count": 24,
     "metadata": {},
     "output_type": "execute_result"
    }
   ],
   "source": [
    "(3*4)+5\n",
    "#This a simple arithmetic expression to mutiply then add integers"
   ]
  },
  {
   "cell_type": "code",
   "execution_count": 31,
   "id": "e5673f43",
   "metadata": {},
   "outputs": [
    {
     "data": {
      "text/plain": [
       "3.3333333333333335"
      ]
     },
     "execution_count": 31,
     "metadata": {},
     "output_type": "execute_result"
    }
   ],
   "source": [
    "#This will convert 200 minutes to hours by diving by 60\n",
    "200/60\n"
   ]
  },
  {
   "cell_type": "markdown",
   "id": "9a4f3737",
   "metadata": {},
   "source": [
    "## Author:\n",
    " ## Meher Bano"
   ]
  },
  {
   "cell_type": "code",
   "execution_count": null,
   "id": "5138849f",
   "metadata": {},
   "outputs": [],
   "source": []
  }
 ],
 "metadata": {
  "kernelspec": {
   "display_name": "Python 3 (ipykernel)",
   "language": "python",
   "name": "python3"
  },
  "language_info": {
   "codemirror_mode": {
    "name": "ipython",
    "version": 3
   },
   "file_extension": ".py",
   "mimetype": "text/x-python",
   "name": "python",
   "nbconvert_exporter": "python",
   "pygments_lexer": "ipython3",
   "version": "3.11.3"
  }
 },
 "nbformat": 4,
 "nbformat_minor": 5
}
